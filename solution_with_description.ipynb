{
 "cells": [
  {
   "cell_type": "code",
   "execution_count": 58,
   "metadata": {
    "collapsed": false,
    "scrolled": true
   },
   "outputs": [
    {
     "data": {
      "text/html": [
       "<div>\n",
       "<style scoped>\n",
       "    .dataframe tbody tr th:only-of-type {\n",
       "        vertical-align: middle;\n",
       "    }\n",
       "\n",
       "    .dataframe tbody tr th {\n",
       "        vertical-align: top;\n",
       "    }\n",
       "\n",
       "    .dataframe thead th {\n",
       "        text-align: right;\n",
       "    }\n",
       "</style>\n",
       "<table border=\"1\" class=\"dataframe\">\n",
       "  <thead>\n",
       "    <tr style=\"text-align: right;\">\n",
       "      <th></th>\n",
       "      <th>Inv_Id</th>\n",
       "      <th>Vendor_Code</th>\n",
       "      <th>GL_Code</th>\n",
       "      <th>Inv_Amt</th>\n",
       "      <th>Item_Description</th>\n",
       "      <th>Product_Category</th>\n",
       "    </tr>\n",
       "  </thead>\n",
       "  <tbody>\n",
       "    <tr>\n",
       "      <th>0</th>\n",
       "      <td>15001</td>\n",
       "      <td>VENDOR-1676</td>\n",
       "      <td>GL-6100410</td>\n",
       "      <td>83.24</td>\n",
       "      <td>Artworking/Typesetting Production Jun 2009 Cha...</td>\n",
       "      <td>CLASS-1963</td>\n",
       "    </tr>\n",
       "    <tr>\n",
       "      <th>1</th>\n",
       "      <td>15002</td>\n",
       "      <td>VENDOR-1883</td>\n",
       "      <td>GL-2182000</td>\n",
       "      <td>51.18</td>\n",
       "      <td>Auto Leasing Corporate Services Corning Inc /N...</td>\n",
       "      <td>CLASS-1250</td>\n",
       "    </tr>\n",
       "    <tr>\n",
       "      <th>2</th>\n",
       "      <td>15004</td>\n",
       "      <td>VENDOR-1999</td>\n",
       "      <td>GL-6050100</td>\n",
       "      <td>79.02</td>\n",
       "      <td>Store Management Lease/Rent Deltona Corp Real ...</td>\n",
       "      <td>CLASS-1274</td>\n",
       "    </tr>\n",
       "    <tr>\n",
       "      <th>3</th>\n",
       "      <td>15005</td>\n",
       "      <td>VENDOR-1771</td>\n",
       "      <td>GL-6101400</td>\n",
       "      <td>48.50</td>\n",
       "      <td>Store Construction General Requirements Coloni...</td>\n",
       "      <td>CLASS-1522</td>\n",
       "    </tr>\n",
       "    <tr>\n",
       "      <th>4</th>\n",
       "      <td>15006</td>\n",
       "      <td>VENDOR-1331</td>\n",
       "      <td>GL-2182000</td>\n",
       "      <td>63.35</td>\n",
       "      <td>Jul 2015 Aydin Corp Contingent Labor/Temp Labo...</td>\n",
       "      <td>CLASS-1376</td>\n",
       "    </tr>\n",
       "  </tbody>\n",
       "</table>\n",
       "</div>"
      ],
      "text/plain": [
       "   Inv_Id  Vendor_Code     GL_Code  Inv_Amt  \\\n",
       "0   15001  VENDOR-1676  GL-6100410    83.24   \n",
       "1   15002  VENDOR-1883  GL-2182000    51.18   \n",
       "2   15004  VENDOR-1999  GL-6050100    79.02   \n",
       "3   15005  VENDOR-1771  GL-6101400    48.50   \n",
       "4   15006  VENDOR-1331  GL-2182000    63.35   \n",
       "\n",
       "                                    Item_Description Product_Category  \n",
       "0  Artworking/Typesetting Production Jun 2009 Cha...       CLASS-1963  \n",
       "1  Auto Leasing Corporate Services Corning Inc /N...       CLASS-1250  \n",
       "2  Store Management Lease/Rent Deltona Corp Real ...       CLASS-1274  \n",
       "3  Store Construction General Requirements Coloni...       CLASS-1522  \n",
       "4  Jul 2015 Aydin Corp Contingent Labor/Temp Labo...       CLASS-1376  "
      ]
     },
     "execution_count": 58,
     "metadata": {},
     "output_type": "execute_result"
    }
   ],
   "source": [
    "import pandas as pd\n",
    "df = pd.read_csv('dataset/Train.csv')\n",
    "df.head()"
   ]
  },
  {
   "cell_type": "code",
   "execution_count": 59,
   "metadata": {
    "collapsed": true
   },
   "outputs": [],
   "source": [
    "col = ['Inv_Id','Product_Category', 'Item_Description']\n",
    "df = df[col]"
   ]
  },
  {
   "cell_type": "code",
   "execution_count": 60,
   "metadata": {
    "collapsed": true
   },
   "outputs": [],
   "source": [
    "df['category_id'] = df['Product_Category'].factorize()[0]\n",
    "from io import StringIO\n",
    "category_id_df = df[['Product_Category', 'category_id']].drop_duplicates().sort_values('category_id')\n",
    "category_to_id = dict(category_id_df.values)\n",
    "id_to_category = dict(category_id_df[['category_id', 'Product_Category']].values)"
   ]
  },
  {
   "cell_type": "code",
   "execution_count": 61,
   "metadata": {
    "collapsed": false
   },
   "outputs": [
    {
     "data": {
      "text/html": [
       "<div>\n",
       "<style scoped>\n",
       "    .dataframe tbody tr th:only-of-type {\n",
       "        vertical-align: middle;\n",
       "    }\n",
       "\n",
       "    .dataframe tbody tr th {\n",
       "        vertical-align: top;\n",
       "    }\n",
       "\n",
       "    .dataframe thead th {\n",
       "        text-align: right;\n",
       "    }\n",
       "</style>\n",
       "<table border=\"1\" class=\"dataframe\">\n",
       "  <thead>\n",
       "    <tr style=\"text-align: right;\">\n",
       "      <th></th>\n",
       "      <th>Inv_Id</th>\n",
       "      <th>Product_Category</th>\n",
       "      <th>Item_Description</th>\n",
       "      <th>category_id</th>\n",
       "    </tr>\n",
       "  </thead>\n",
       "  <tbody>\n",
       "    <tr>\n",
       "      <th>0</th>\n",
       "      <td>15001</td>\n",
       "      <td>CLASS-1963</td>\n",
       "      <td>Artworking/Typesetting Production Jun 2009 Cha...</td>\n",
       "      <td>0</td>\n",
       "    </tr>\n",
       "    <tr>\n",
       "      <th>1</th>\n",
       "      <td>15002</td>\n",
       "      <td>CLASS-1250</td>\n",
       "      <td>Auto Leasing Corporate Services Corning Inc /N...</td>\n",
       "      <td>1</td>\n",
       "    </tr>\n",
       "    <tr>\n",
       "      <th>2</th>\n",
       "      <td>15004</td>\n",
       "      <td>CLASS-1274</td>\n",
       "      <td>Store Management Lease/Rent Deltona Corp Real ...</td>\n",
       "      <td>2</td>\n",
       "    </tr>\n",
       "    <tr>\n",
       "      <th>3</th>\n",
       "      <td>15005</td>\n",
       "      <td>CLASS-1522</td>\n",
       "      <td>Store Construction General Requirements Coloni...</td>\n",
       "      <td>3</td>\n",
       "    </tr>\n",
       "    <tr>\n",
       "      <th>4</th>\n",
       "      <td>15006</td>\n",
       "      <td>CLASS-1376</td>\n",
       "      <td>Jul 2015 Aydin Corp Contingent Labor/Temp Labo...</td>\n",
       "      <td>4</td>\n",
       "    </tr>\n",
       "  </tbody>\n",
       "</table>\n",
       "</div>"
      ],
      "text/plain": [
       "   Inv_Id Product_Category                                   Item_Description  \\\n",
       "0   15001       CLASS-1963  Artworking/Typesetting Production Jun 2009 Cha...   \n",
       "1   15002       CLASS-1250  Auto Leasing Corporate Services Corning Inc /N...   \n",
       "2   15004       CLASS-1274  Store Management Lease/Rent Deltona Corp Real ...   \n",
       "3   15005       CLASS-1522  Store Construction General Requirements Coloni...   \n",
       "4   15006       CLASS-1376  Jul 2015 Aydin Corp Contingent Labor/Temp Labo...   \n",
       "\n",
       "   category_id  \n",
       "0            0  \n",
       "1            1  \n",
       "2            2  \n",
       "3            3  \n",
       "4            4  "
      ]
     },
     "execution_count": 61,
     "metadata": {},
     "output_type": "execute_result"
    }
   ],
   "source": [
    "df.head()\n"
   ]
  },
  {
   "cell_type": "code",
   "execution_count": 62,
   "metadata": {
    "collapsed": false
   },
   "outputs": [
    {
     "data": {
      "image/png": "[encoded data removed]",
      "text/plain": [
       "<Figure size 576x432 with 1 Axes>"
      ]
     },
     "metadata": {
      "needs_background": "light"
     },
     "output_type": "display_data"
    }
   ],
   "source": [
    "import matplotlib.pyplot as plt\n",
    "fig = plt.figure(figsize=(8,6))\n",
    "df.groupby('Product_Category').Item_Description.count().plot.bar(ylim=0)\n",
    "plt.show()"
   ]
  },
  {
   "cell_type": "code",
   "execution_count": 63,
   "metadata": {
    "collapsed": false
   },
   "outputs": [
    {
     "data": {
      "text/plain": [
       "(5566, 2113)"
      ]
     },
     "execution_count": 63,
     "metadata": {},
     "output_type": "execute_result"
    }
   ],
   "source": [
    "\n",
    "from sklearn.feature_extraction.text import TfidfVectorizer\n",
    "\n",
    "tfidf = TfidfVectorizer(sublinear_tf=True, min_df=5, norm='l2', encoding='latin-1', ngram_range=(1, 2), stop_words='english')\n",
    "\n",
    "features = tfidf.fit_transform(df.Item_Description).toarray()\n",
    "labels = df.category_id\n",
    "features.shape"
   ]
  },
  {
   "cell_type": "code",
   "execution_count": 64,
   "metadata": {
    "collapsed": false
   },
   "outputs": [
    {
     "name": "stdout",
     "output_type": "stream",
     "text": [
      "# 'CLASS-1248':\n",
      "  . Most correlated unigrams:\n",
      "       . risk\n",
      "       . consulting\n",
      "  . Most correlated bigrams:\n",
      "       . finance consulting\n",
      "       . audit risk\n",
      "# 'CLASS-1249':\n",
      "  . Most correlated unigrams:\n",
      "       . fleet\n",
      "       . repair\n",
      "  . Most correlated bigrams:\n",
      "       . repair maintenance\n",
      "       . fleet repair\n",
      "# 'CLASS-1250':\n",
      "  . Most correlated unigrams:\n",
      "       . auto\n",
      "       . leasing\n",
      "  . Most correlated bigrams:\n",
      "       . corning ny\n",
      "       . auto leasing\n",
      "# 'CLASS-1274':\n",
      "  . Most correlated unigrams:\n",
      "       . base\n",
      "       . rent\n",
      "  . Most correlated bigrams:\n",
      "       . base rent\n",
      "       . lease rent\n",
      "# 'CLASS-1294':\n",
      "  . Most correlated unigrams:\n",
      "       . property\n",
      "       . building\n",
      "  . Most correlated bigrams:\n",
      "       . building property\n",
      "       . property insurance\n",
      "# 'CLASS-1309':\n",
      "  . Most correlated unigrams:\n",
      "       . brokerage\n",
      "       . catalogue\n",
      "  . Most correlated bigrams:\n",
      "       . cv brokerage\n",
      "       . traditional catalogue\n",
      "# 'CLASS-1322':\n",
      "  . Most correlated unigrams:\n",
      "       . organizations\n",
      "       . charity\n",
      "  . Most correlated bigrams:\n",
      "       . organizations charity\n",
      "       . charity organizations\n",
      "# 'CLASS-1376':\n",
      "  . Most correlated unigrams:\n",
      "       . contingent\n",
      "       . labor\n",
      "  . Most correlated bigrams:\n",
      "       . labor temp\n",
      "       . contingent labor\n",
      "# 'CLASS-1429':\n",
      "  . Most correlated unigrams:\n",
      "       . social\n",
      "       . display\n",
      "  . Most correlated bigrams:\n",
      "       . digital display\n",
      "       . digital social\n",
      "# 'CLASS-1477':\n",
      "  . Most correlated unigrams:\n",
      "       . mobile\n",
      "       . messaging\n",
      "  . Most correlated bigrams:\n",
      "       . mail direct\n",
      "       . messaging media\n",
      "# 'CLASS-1522':\n",
      "  . Most correlated unigrams:\n",
      "       . contractor\n",
      "       . general\n",
      "  . Most correlated bigrams:\n",
      "       . site clean\n",
      "       . final site\n",
      "# 'CLASS-1567':\n",
      "  . Most correlated unigrams:\n",
      "       . freight\n",
      "       . forwarders\n",
      "  . Most correlated bigrams:\n",
      "       . forwarders services\n",
      "       . freight forwarders\n",
      "# 'CLASS-1652':\n",
      "  . Most correlated unigrams:\n",
      "       . information\n",
      "       . managed\n",
      "  . Most correlated bigrams:\n",
      "       . services managed\n",
      "       . managed services\n",
      "# 'CLASS-1688':\n",
      "  . Most correlated unigrams:\n",
      "       . life\n",
      "       . health\n",
      "  . Most correlated bigrams:\n",
      "       . benefits corporate\n",
      "       . resources benefits\n",
      "# 'CLASS-1721':\n",
      "  . Most correlated unigrams:\n",
      "       . advertising\n",
      "       . magazines\n",
      "  . Most correlated bigrams:\n",
      "       . buy traditional\n",
      "       . national advertising\n",
      "# 'CLASS-1758':\n",
      "  . Most correlated unigrams:\n",
      "       . field\n",
      "       . car\n",
      "  . Most correlated bigrams:\n",
      "       . car field\n",
      "       . miscellaneous company\n",
      "# 'CLASS-1770':\n",
      "  . Most correlated unigrams:\n",
      "       . printed\n",
      "       . materials\n",
      "  . Most correlated bigrams:\n",
      "       . miscellaneous printed\n",
      "       . printed materials\n",
      "# 'CLASS-1805':\n",
      "  . Most correlated unigrams:\n",
      "       . advertising\n",
      "       . newspaper\n",
      "  . Most correlated bigrams:\n",
      "       . national advertising\n",
      "       . smap national\n",
      "# 'CLASS-1828':\n",
      "  . Most correlated unigrams:\n",
      "       . fees\n",
      "       . agency\n",
      "  . Most correlated bigrams:\n",
      "       . fees commissions\n",
      "       . agency fees\n",
      "# 'CLASS-1838':\n",
      "  . Most correlated unigrams:\n",
      "       . services\n",
      "       . communications\n",
      "  . Most correlated bigrams:\n",
      "       . corporate services\n",
      "       . services corporate\n",
      "# 'CLASS-1850':\n",
      "  . Most correlated unigrams:\n",
      "       . home\n",
      "       . outdoor\n",
      "  . Most correlated bigrams:\n",
      "       . cgg holding\n",
      "       . outdoor home\n",
      "# 'CLASS-1867':\n",
      "  . Most correlated unigrams:\n",
      "       . influencer\n",
      "       . content\n",
      "  . Most correlated bigrams:\n",
      "       . social content\n",
      "       . content production\n",
      "# 'CLASS-1870':\n",
      "  . Most correlated unigrams:\n",
      "       . parcel\n",
      "       . courier\n",
      "  . Most correlated bigrams:\n",
      "       . parcel postage\n",
      "       . postage courier\n",
      "# 'CLASS-1919':\n",
      "  . Most correlated unigrams:\n",
      "       . mailer\n",
      "       . post\n",
      "  . Most correlated bigrams:\n",
      "       . post card\n",
      "       . direct mail\n",
      "# 'CLASS-1957':\n",
      "  . Most correlated unigrams:\n",
      "       . expenses\n",
      "       . trade\n",
      "  . Most correlated bigrams:\n",
      "       . trade expenses\n",
      "       . expenses events\n",
      "# 'CLASS-1963':\n",
      "  . Most correlated unigrams:\n",
      "       . prototype\n",
      "       . design\n",
      "  . Most correlated bigrams:\n",
      "       . prototype comp\n",
      "       . artworking typesetting\n",
      "# 'CLASS-1964':\n",
      "  . Most correlated unigrams:\n",
      "       . public\n",
      "       . relations\n",
      "  . Most correlated bigrams:\n",
      "       . public relations\n",
      "       . relations agency\n",
      "# 'CLASS-1983':\n",
      "  . Most correlated unigrams:\n",
      "       . appraisal\n",
      "       . realtor\n",
      "  . Most correlated bigrams:\n",
      "       . appraisal realtor\n",
      "       . general search\n",
      "# 'CLASS-2003':\n",
      "  . Most correlated unigrams:\n",
      "       . pension\n",
      "       . funds\n",
      "  . Most correlated bigrams:\n",
      "       . retirement pension\n",
      "       . pension funds\n",
      "# 'CLASS-2015':\n",
      "  . Most correlated unigrams:\n",
      "       . non\n",
      "       . procurable\n",
      "  . Most correlated bigrams:\n",
      "       . 2015 jun\n",
      "       . non procurable\n",
      "# 'CLASS-2038':\n",
      "  . Most correlated unigrams:\n",
      "       . purchase\n",
      "       . search\n",
      "  . Most correlated bigrams:\n",
      "       . corp employee\n",
      "       . search agency\n",
      "# 'CLASS-2112':\n",
      "  . Most correlated unigrams:\n",
      "       . kaiser\n",
      "       . fixtures\n",
      "  . Most correlated bigrams:\n",
      "       . fixtures store\n",
      "       . store fixtures\n",
      "# 'CLASS-2141':\n",
      "  . Most correlated unigrams:\n",
      "       . models\n",
      "       . trade\n",
      "  . Most correlated bigrams:\n",
      "       . artists models\n",
      "       . talent artists\n",
      "# 'CLASS-2146':\n",
      "  . Most correlated unigrams:\n",
      "       . non\n",
      "       . procurable\n",
      "  . Most correlated bigrams:\n",
      "       . oct 2015\n",
      "       . non procurable\n",
      "# 'CLASS-2152':\n",
      "  . Most correlated unigrams:\n",
      "       . rose\n",
      "       . television\n",
      "  . Most correlated bigrams:\n",
      "       . 2008 apr\n",
      "       . traditional television\n",
      "# 'CLASS-2241':\n",
      "  . Most correlated unigrams:\n",
      "       . insurance\n",
      "       . workmen\n",
      "  . Most correlated bigrams:\n",
      "       . insurance workmen\n",
      "       . workmen insurance\n"
     ]
    }
   ],
   "source": [
    "from sklearn.feature_selection import chi2\n",
    "import numpy as np\n",
    "\n",
    "N = 2\n",
    "for Product_Category, category_id in sorted(category_to_id.items()):\n",
    "  features_chi2 = chi2(features, labels == category_id)\n",
    "  indices = np.argsort(features_chi2[0])\n",
    "  feature_names = np.array(tfidf.get_feature_names())[indices]\n",
    "  unigrams = [v for v in feature_names if len(v.split(' ')) == 1]\n",
    "  bigrams = [v for v in feature_names if len(v.split(' ')) == 2]\n",
    "  print(\"# '{}':\".format(Product_Category))\n",
    "  print(\"  . Most correlated unigrams:\\n       . {}\".format('\\n       . '.join(unigrams[-N:])))\n",
    "  print(\"  . Most correlated bigrams:\\n       . {}\".format('\\n       . '.join(bigrams[-N:])))"
   ]
  },
  {
   "cell_type": "code",
   "execution_count": 65,
   "metadata": {
    "collapsed": true
   },
   "outputs": [],
   "source": [
    "from sklearn.model_selection import train_test_split\n",
    "from sklearn.feature_extraction.text import CountVectorizer\n",
    "from sklearn.feature_extraction.text import TfidfTransformer\n",
    "from sklearn.naive_bayes import MultinomialNB\n",
    "\n",
    "X_train, X_test, y_train, y_test = train_test_split(df['Item_Description'], df['Product_Category'], random_state = 0)\n",
    "count_vect = CountVectorizer()\n",
    "X_train_counts = count_vect.fit_transform(X_train)\n",
    "tfidf_transformer = TfidfTransformer()\n",
    "X_train_tfidf = tfidf_transformer.fit_transform(X_train_counts)\n",
    "\n",
    "clf = MultinomialNB().fit(X_train_tfidf, y_train)\n"
   ]
  },
  {
   "cell_type": "code",
   "execution_count": 69,
   "metadata": {
    "collapsed": false
   },
   "outputs": [
    {
     "name": "stdout",
     "output_type": "stream",
     "text": [
      "['CLASS-1250']\n"
     ]
    }
   ],
   "source": [
    "#Predict class  based on item_description using MultinomialNB\n",
    "\n",
    "print(clf.predict(count_vect.transform([\"Agway Inc Auto Fleet Repair and Maintenance Aug-2011 Auto Leasing and Maintenance Other Corporate Services Corporate Services\"])))"
   ]
  },
  {
   "cell_type": "code",
   "execution_count": 70,
   "metadata": {
    "collapsed": false
   },
   "outputs": [
    {
     "data": {
      "text/html": [
       "<div>\n",
       "<style scoped>\n",
       "    .dataframe tbody tr th:only-of-type {\n",
       "        vertical-align: middle;\n",
       "    }\n",
       "\n",
       "    .dataframe tbody tr th {\n",
       "        vertical-align: top;\n",
       "    }\n",
       "\n",
       "    .dataframe thead th {\n",
       "        text-align: right;\n",
       "    }\n",
       "</style>\n",
       "<table border=\"1\" class=\"dataframe\">\n",
       "  <thead>\n",
       "    <tr style=\"text-align: right;\">\n",
       "      <th></th>\n",
       "      <th>Inv_Id</th>\n",
       "      <th>Product_Category</th>\n",
       "      <th>Item_Description</th>\n",
       "      <th>category_id</th>\n",
       "    </tr>\n",
       "  </thead>\n",
       "  <tbody>\n",
       "    <tr>\n",
       "      <th>1700</th>\n",
       "      <td>17472</td>\n",
       "      <td>CLASS-1249</td>\n",
       "      <td>Agway Inc Auto Fleet Repair and Maintenance Au...</td>\n",
       "      <td>9</td>\n",
       "    </tr>\n",
       "  </tbody>\n",
       "</table>\n",
       "</div>"
      ],
      "text/plain": [
       "      Inv_Id Product_Category  \\\n",
       "1700   17472       CLASS-1249   \n",
       "\n",
       "                                       Item_Description  category_id  \n",
       "1700  Agway Inc Auto Fleet Repair and Maintenance Au...            9  "
      ]
     },
     "execution_count": 70,
     "metadata": {},
     "output_type": "execute_result"
    }
   ],
   "source": [
    "#check Actual class as per data\n",
    "\n",
    "df[df['Item_Description'] == \"Agway Inc Auto Fleet Repair and Maintenance Aug-2011 Auto Leasing and Maintenance Other Corporate Services Corporate Services\"]"
   ]
  },
  {
   "cell_type": "code",
   "execution_count": null,
   "metadata": {
    "collapsed": true
   },
   "outputs": [],
   "source": [
    "#since class doesn't matches try different algorithms and check accuracy"
   ]
  },
  {
   "cell_type": "code",
   "execution_count": 71,
   "metadata": {
    "collapsed": false
   },
   "outputs": [
    {
     "name": "stderr",
     "output_type": "stream",
     "text": [
      "/usr/local/lib/python3.7/site-packages/sklearn/model_selection/_split.py:652: Warning: The least populated class in y has only 1 members, which is too few. The minimum number of members in any class cannot be less than n_splits=5.\n",
      "  % (min_groups, self.n_splits)), Warning)\n",
      "/usr/local/lib/python3.7/site-packages/sklearn/model_selection/_split.py:652: Warning: The least populated class in y has only 1 members, which is too few. The minimum number of members in any class cannot be less than n_splits=5.\n",
      "  % (min_groups, self.n_splits)), Warning)\n",
      "/usr/local/lib/python3.7/site-packages/sklearn/model_selection/_split.py:652: Warning: The least populated class in y has only 1 members, which is too few. The minimum number of members in any class cannot be less than n_splits=5.\n",
      "  % (min_groups, self.n_splits)), Warning)\n",
      "/usr/local/lib/python3.7/site-packages/sklearn/model_selection/_split.py:652: Warning: The least populated class in y has only 1 members, which is too few. The minimum number of members in any class cannot be less than n_splits=5.\n",
      "  % (min_groups, self.n_splits)), Warning)\n",
      "/usr/local/lib/python3.7/site-packages/sklearn/linear_model/logistic.py:433: FutureWarning: Default solver will be changed to 'lbfgs' in 0.22. Specify a solver to silence this warning.\n",
      "  FutureWarning)\n",
      "/usr/local/lib/python3.7/site-packages/sklearn/linear_model/logistic.py:460: FutureWarning: Default multi_class will be changed to 'auto' in 0.22. Specify the multi_class option to silence this warning.\n",
      "  \"this warning.\", FutureWarning)\n",
      "/usr/local/lib/python3.7/site-packages/sklearn/linear_model/logistic.py:433: FutureWarning: Default solver will be changed to 'lbfgs' in 0.22. Specify a solver to silence this warning.\n",
      "  FutureWarning)\n",
      "/usr/local/lib/python3.7/site-packages/sklearn/linear_model/logistic.py:460: FutureWarning: Default multi_class will be changed to 'auto' in 0.22. Specify the multi_class option to silence this warning.\n",
      "  \"this warning.\", FutureWarning)\n",
      "/usr/local/lib/python3.7/site-packages/sklearn/linear_model/logistic.py:433: FutureWarning: Default solver will be changed to 'lbfgs' in 0.22. Specify a solver to silence this warning.\n",
      "  FutureWarning)\n",
      "/usr/local/lib/python3.7/site-packages/sklearn/linear_model/logistic.py:460: FutureWarning: Default multi_class will be changed to 'auto' in 0.22. Specify the multi_class option to silence this warning.\n",
      "  \"this warning.\", FutureWarning)\n",
      "/usr/local/lib/python3.7/site-packages/sklearn/linear_model/logistic.py:433: FutureWarning: Default solver will be changed to 'lbfgs' in 0.22. Specify a solver to silence this warning.\n",
      "  FutureWarning)\n",
      "/usr/local/lib/python3.7/site-packages/sklearn/linear_model/logistic.py:460: FutureWarning: Default multi_class will be changed to 'auto' in 0.22. Specify the multi_class option to silence this warning.\n",
      "  \"this warning.\", FutureWarning)\n",
      "/usr/local/lib/python3.7/site-packages/sklearn/linear_model/logistic.py:433: FutureWarning: Default solver will be changed to 'lbfgs' in 0.22. Specify a solver to silence this warning.\n",
      "  FutureWarning)\n",
      "/usr/local/lib/python3.7/site-packages/sklearn/linear_model/logistic.py:460: FutureWarning: Default multi_class will be changed to 'auto' in 0.22. Specify the multi_class option to silence this warning.\n",
      "  \"this warning.\", FutureWarning)\n"
     ]
    }
   ],
   "source": [
    "from sklearn.linear_model import LogisticRegression\n",
    "from sklearn.ensemble import RandomForestClassifier\n",
    "from sklearn.naive_bayes import MultinomialNB\n",
    "from sklearn.svm import LinearSVC\n",
    "\n",
    "from sklearn.model_selection import cross_val_score\n",
    "\n",
    "\n",
    "models = [\n",
    "    RandomForestClassifier(n_estimators=200, max_depth=3, random_state=0),\n",
    "    LinearSVC(),\n",
    "    MultinomialNB(),\n",
    "    LogisticRegression(random_state=0),\n",
    "]\n",
    "CV = 5\n",
    "cv_df = pd.DataFrame(index=range(CV * len(models)))\n",
    "entries = []\n",
    "for model in models:\n",
    "  model_name = model.__class__.__name__\n",
    "  accuracies = cross_val_score(model, features, labels, scoring='accuracy', cv=CV)\n",
    "  for fold_idx, accuracy in enumerate(accuracies):\n",
    "    entries.append((model_name, fold_idx, accuracy))\n",
    "cv_df = pd.DataFrame(entries, columns=['model_name', 'fold_idx', 'accuracy'])"
   ]
  },
  {
   "cell_type": "code",
   "execution_count": 72,
   "metadata": {
    "collapsed": false
   },
   "outputs": [
    {
     "data": {
      "image/png": "[encoded data removed]",
      "text/plain": [
       "<Figure size 432x288 with 1 Axes>"
      ]
     },
     "metadata": {
      "needs_background": "light"
     },
     "output_type": "display_data"
    }
   ],
   "source": [
    "import seaborn as sns\n",
    "\n",
    "sns.boxplot(x='model_name', y='accuracy', data=cv_df)\n",
    "sns.stripplot(x='model_name', y='accuracy', data=cv_df, \n",
    "              size=8, jitter=True, edgecolor=\"gray\", linewidth=2)\n",
    "plt.show()"
   ]
  },
  {
   "cell_type": "code",
   "execution_count": 73,
   "metadata": {
    "collapsed": false
   },
   "outputs": [
    {
     "data": {
      "text/plain": [
       "model_name\n",
       "LinearSVC                 0.999290\n",
       "LogisticRegression        0.992835\n",
       "MultinomialNB             0.981518\n",
       "RandomForestClassifier    0.799725\n",
       "Name: accuracy, dtype: float64"
      ]
     },
     "execution_count": 73,
     "metadata": {},
     "output_type": "execute_result"
    }
   ],
   "source": [
    "cv_df.groupby('model_name').accuracy.mean()"
   ]
  },
  {
   "cell_type": "code",
   "execution_count": 74,
   "metadata": {
    "collapsed": true
   },
   "outputs": [],
   "source": [
    "#As LinerSVC has higher accuracy,predict the same item_description used above and check class\n",
    "from sklearn.svm import LinearSVC\n",
    "\n",
    "clf1 = LinearSVC().fit(X_train_tfidf, y_train)"
   ]
  },
  {
   "cell_type": "code",
   "execution_count": 75,
   "metadata": {
    "collapsed": false
   },
   "outputs": [
    {
     "name": "stdout",
     "output_type": "stream",
     "text": [
      "['CLASS-1249']\n"
     ]
    }
   ],
   "source": [
    "print(clf1.predict(count_vect.transform([\"Agway Inc Auto Fleet Repair and Maintenance Aug-2011 Auto Leasing and Maintenance Other Corporate Services Corporate Services\t\"])))"
   ]
  },
  {
   "cell_type": "code",
   "execution_count": 77,
   "metadata": {
    "collapsed": false
   },
   "outputs": [
    {
     "data": {
      "text/html": [
       "<div>\n",
       "<style scoped>\n",
       "    .dataframe tbody tr th:only-of-type {\n",
       "        vertical-align: middle;\n",
       "    }\n",
       "\n",
       "    .dataframe tbody tr th {\n",
       "        vertical-align: top;\n",
       "    }\n",
       "\n",
       "    .dataframe thead th {\n",
       "        text-align: right;\n",
       "    }\n",
       "</style>\n",
       "<table border=\"1\" class=\"dataframe\">\n",
       "  <thead>\n",
       "    <tr style=\"text-align: right;\">\n",
       "      <th></th>\n",
       "      <th>Inv_Id</th>\n",
       "      <th>Product_Category</th>\n",
       "      <th>Item_Description</th>\n",
       "      <th>category_id</th>\n",
       "    </tr>\n",
       "  </thead>\n",
       "  <tbody>\n",
       "    <tr>\n",
       "      <th>1700</th>\n",
       "      <td>17472</td>\n",
       "      <td>CLASS-1249</td>\n",
       "      <td>Agway Inc Auto Fleet Repair and Maintenance Au...</td>\n",
       "      <td>9</td>\n",
       "    </tr>\n",
       "  </tbody>\n",
       "</table>\n",
       "</div>"
      ],
      "text/plain": [
       "      Inv_Id Product_Category  \\\n",
       "1700   17472       CLASS-1249   \n",
       "\n",
       "                                       Item_Description  category_id  \n",
       "1700  Agway Inc Auto Fleet Repair and Maintenance Au...            9  "
      ]
     },
     "execution_count": 77,
     "metadata": {},
     "output_type": "execute_result"
    }
   ],
   "source": [
    "#check Actual class as per data\n",
    "df[df['Item_Description'] == \"Agway Inc Auto Fleet Repair and Maintenance Aug-2011 Auto Leasing and Maintenance Other Corporate Services Corporate Services\"]"
   ]
  },
  {
   "cell_type": "code",
   "execution_count": null,
   "metadata": {
    "collapsed": true
   },
   "outputs": [],
   "source": [
    "#AS the class above matches we will use LinearSVC for training and prediction"
   ]
  },
  {
   "cell_type": "code",
   "execution_count": 28,
   "metadata": {
    "collapsed": true
   },
   "outputs": [],
   "source": [
    "from sklearn.model_selection import train_test_split\n",
    "\n",
    "model = LinearSVC()\n",
    "\n",
    "X_train, X_test, y_train, y_test, indices_train, indices_test = train_test_split(features, labels, df.index, test_size=0.33, random_state=0)\n",
    "model.fit(X_train, y_train)\n",
    "y_pred = model.predict(X_test)"
   ]
  },
  {
   "cell_type": "code",
   "execution_count": 32,
   "metadata": {
    "collapsed": false
   },
   "outputs": [],
   "source": [
    "\n",
    "from sklearn.svm import LinearSVC\n",
    "from sklearn.feature_extraction.text import CountVectorizer\n",
    "from sklearn.feature_extraction.text import TfidfTransformer\n",
    "\n",
    "X_train_all=df['Item_Description']\n",
    "y_train_all=df['Product_Category']\n",
    "\n",
    "X_train_all_counts = count_vect.fit_transform(X_train_all)\n",
    "tfidf_transformer_all = TfidfTransformer()\n",
    "X_train_tfidf_all = tfidf_transformer_all.fit_transform(X_train_all_counts)\n",
    "\n",
    "clf2 = LinearSVC().fit(X_train_tfidf_all, y_train_all)"
   ]
  },
  {
   "cell_type": "code",
   "execution_count": 35,
   "metadata": {
    "collapsed": true
   },
   "outputs": [],
   "source": [
    "df1=pd.read_csv('dataset/test.csv')"
   ]
  },
  {
   "cell_type": "code",
   "execution_count": 39,
   "metadata": {
    "collapsed": false
   },
   "outputs": [],
   "source": [
    "df2=df1[['Inv_Id','Item_Description']]"
   ]
  },
  {
   "cell_type": "code",
   "execution_count": 43,
   "metadata": {
    "collapsed": false
   },
   "outputs": [],
   "source": [
    "predicted_result=clf2.predict(count_vect.transform(df2.Item_Description))"
   ]
  },
  {
   "cell_type": "code",
   "execution_count": 47,
   "metadata": {
    "collapsed": false
   },
   "outputs": [
    {
     "data": {
      "text/plain": [
       "2292"
      ]
     },
     "execution_count": 47,
     "metadata": {},
     "output_type": "execute_result"
    }
   ],
   "source": [
    "len(predicted_result)"
   ]
  },
  {
   "cell_type": "code",
   "execution_count": 54,
   "metadata": {
    "collapsed": true
   },
   "outputs": [],
   "source": [
    "output=pd.DataFrame({'Inv_Id':df2.Inv_Id,'Product_Category':predicted_result})"
   ]
  },
  {
   "cell_type": "code",
   "execution_count": 56,
   "metadata": {
    "collapsed": false
   },
   "outputs": [],
   "source": [
    "output.to_csv('dataset/submission.csv', index=False)"
   ]
  },
  {
   "cell_type": "code",
   "execution_count": null,
   "metadata": {
    "collapsed": true
   },
   "outputs": [],
   "source": []
  }
 ],
 "metadata": {
  "anaconda-cloud": {},
  "kernelspec": {
   "display_name": "Python 3",
   "language": "python",
   "name": "python3"
  },
  "language_info": {
   "codemirror_mode": {
    "name": "ipython",
    "version": 3
   },
   "file_extension": ".py",
   "mimetype": "text/x-python",
   "name": "python",
   "nbconvert_exporter": "python",
   "pygments_lexer": "ipython3",
   "version": "3.7.0"
  }
 },
 "nbformat": 4,
 "nbformat_minor": 1
}
