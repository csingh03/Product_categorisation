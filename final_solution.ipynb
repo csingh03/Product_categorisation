{
 "cells": [
  {
   "cell_type": "code",
   "execution_count": 12,
   "metadata": {
    "collapsed": false
   },
   "outputs": [],
   "source": [
    "from sklearn.svm import LinearSVC\n",
    "from sklearn.feature_extraction.text import CountVectorizer\n",
    "from sklearn.feature_extraction.text import TfidfTransformer\n",
    "import pandas as pd\n",
    "\n",
    "df=pd.read_csv('Train.csv')\n",
    "df1=pd.read_csv('Test.csv')\n",
    "\n",
    "X_train_all=df['Item_Description']\n",
    "y_train_all=df['Product_Category']\n",
    "\n",
    "count_vect = CountVectorizer()\n",
    "X_train_all_counts = count_vect.fit_transform(X_train_all)\n",
    "tfidf_transformer_all = TfidfTransformer()\n",
    "X_train_tfidf_all = tfidf_transformer_all.fit_transform(X_train_all_counts)\n",
    "\n",
    "clf2 = LinearSVC().fit(X_train_tfidf_all, y_train_all)"
   ]
  },
  {
   "cell_type": "code",
   "execution_count": 13,
   "metadata": {
    "collapsed": true
   },
   "outputs": [],
   "source": [
    "predicted_result=clf2.predict(count_vect.transform(df1.Item_Description))"
   ]
  },
  {
   "cell_type": "code",
   "execution_count": 14,
   "metadata": {
    "collapsed": false
   },
   "outputs": [],
   "source": [
    "output=pd.DataFrame({'Inv_Id':df1.Inv_Id,'Product_Category':predicted_result})"
   ]
  },
  {
   "cell_type": "code",
   "execution_count": 16,
   "metadata": {
    "collapsed": false
   },
   "outputs": [],
   "source": [
    "output.to_csv('submission.csv', index=False)"
   ]
  },
  {
   "cell_type": "code",
   "execution_count": null,
   "metadata": {
    "collapsed": true
   },
   "outputs": [],
   "source": []
  }
 ],
 "metadata": {
  "anaconda-cloud": {},
  "kernelspec": {
   "display_name": "Python 3",
   "language": "python",
   "name": "python3"
  },
  "language_info": {
   "codemirror_mode": {
    "name": "ipython",
    "version": 3
   },
   "file_extension": ".py",
   "mimetype": "text/x-python",
   "name": "python",
   "nbconvert_exporter": "python",
   "pygments_lexer": "ipython3",
   "version": "3.7.0"
  }
 },
 "nbformat": 4,
 "nbformat_minor": 1
}
